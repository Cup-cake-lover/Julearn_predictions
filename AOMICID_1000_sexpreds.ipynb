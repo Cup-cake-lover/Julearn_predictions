{
 "cells": [
  {
   "cell_type": "code",
   "execution_count": 1,
   "metadata": {},
   "outputs": [
    {
     "name": "stderr",
     "output_type": "stream",
     "text": [
      "It is highly recommended to configure Git before using DataLad. Set both 'user.name' and 'user.email' configuration variables.\n",
      "/home/hsreekri/Hsreekri/lib/python3.11/site-packages/tqdm/auto.py:21: TqdmWarning: IProgress not found. Please update jupyter and ipywidgets. See https://ipywidgets.readthedocs.io/en/stable/user_install.html\n",
      "  from .autonotebook import tqdm as notebook_tqdm\n",
      "\n"
     ]
    }
   ],
   "source": [
    "from junifer.storage import HDF5FeatureStorage\n",
    "from julearn.api import run_cross_validation\n",
    "from julearn.pipeline import PipelineCreator\n",
    "import pandas as pd\n",
    "import seaborn as sns\n",
    "from sklearn.svm import LinearSVC"
   ]
  },
  {
   "cell_type": "code",
   "execution_count": 2,
   "metadata": {},
   "outputs": [],
   "source": [
    "storage = HDF5FeatureStorage(uri='data/AOMICID1000_vbm_parcellations_sch100.hdf5')\n"
   ]
  },
  {
   "cell_type": "code",
   "execution_count": 13,
   "metadata": {},
   "outputs": [],
   "source": [
    "df = storage.read_df('VBM_GM_Schaefer100x17_counts_aggregation')"
   ]
  },
  {
   "cell_type": "code",
   "execution_count": 14,
   "metadata": {},
   "outputs": [],
   "source": [
    "df_demographics = pd.read_csv('data/participants.tsv',sep='\\t')"
   ]
  },
  {
   "cell_type": "code",
   "execution_count": 15,
   "metadata": {},
   "outputs": [],
   "source": [
    "df_demographics.rename(columns={\"participant_id\": \"subject\"}, inplace=True)"
   ]
  },
  {
   "cell_type": "code",
   "execution_count": 16,
   "metadata": {},
   "outputs": [
    {
     "data": {
      "text/html": [
       "<div>\n",
       "<style scoped>\n",
       "    .dataframe tbody tr th:only-of-type {\n",
       "        vertical-align: middle;\n",
       "    }\n",
       "\n",
       "    .dataframe tbody tr th {\n",
       "        vertical-align: top;\n",
       "    }\n",
       "\n",
       "    .dataframe thead th {\n",
       "        text-align: right;\n",
       "    }\n",
       "</style>\n",
       "<table border=\"1\" class=\"dataframe\">\n",
       "  <thead>\n",
       "    <tr style=\"text-align: right;\">\n",
       "      <th></th>\n",
       "      <th>subject</th>\n",
       "      <th>age</th>\n",
       "      <th>sex</th>\n",
       "      <th>BMI</th>\n",
       "      <th>handedness</th>\n",
       "      <th>education_category</th>\n",
       "      <th>raven_score</th>\n",
       "      <th>NEO_N</th>\n",
       "      <th>NEO_E</th>\n",
       "      <th>NEO_O</th>\n",
       "      <th>NEO_A</th>\n",
       "      <th>NEO_C</th>\n",
       "    </tr>\n",
       "  </thead>\n",
       "  <tbody>\n",
       "    <tr>\n",
       "      <th>0</th>\n",
       "      <td>sub-0001</td>\n",
       "      <td>25.50</td>\n",
       "      <td>M</td>\n",
       "      <td>21.0</td>\n",
       "      <td>right</td>\n",
       "      <td>academic</td>\n",
       "      <td>33.0</td>\n",
       "      <td>23</td>\n",
       "      <td>40</td>\n",
       "      <td>52</td>\n",
       "      <td>47</td>\n",
       "      <td>32</td>\n",
       "    </tr>\n",
       "    <tr>\n",
       "      <th>1</th>\n",
       "      <td>sub-0002</td>\n",
       "      <td>23.25</td>\n",
       "      <td>F</td>\n",
       "      <td>22.0</td>\n",
       "      <td>right</td>\n",
       "      <td>academic</td>\n",
       "      <td>19.0</td>\n",
       "      <td>22</td>\n",
       "      <td>47</td>\n",
       "      <td>34</td>\n",
       "      <td>53</td>\n",
       "      <td>46</td>\n",
       "    </tr>\n",
       "    <tr>\n",
       "      <th>2</th>\n",
       "      <td>sub-0003</td>\n",
       "      <td>25.00</td>\n",
       "      <td>F</td>\n",
       "      <td>23.0</td>\n",
       "      <td>right</td>\n",
       "      <td>applied</td>\n",
       "      <td>29.0</td>\n",
       "      <td>26</td>\n",
       "      <td>42</td>\n",
       "      <td>37</td>\n",
       "      <td>48</td>\n",
       "      <td>48</td>\n",
       "    </tr>\n",
       "    <tr>\n",
       "      <th>3</th>\n",
       "      <td>sub-0004</td>\n",
       "      <td>20.00</td>\n",
       "      <td>F</td>\n",
       "      <td>18.0</td>\n",
       "      <td>right</td>\n",
       "      <td>academic</td>\n",
       "      <td>24.0</td>\n",
       "      <td>32</td>\n",
       "      <td>42</td>\n",
       "      <td>36</td>\n",
       "      <td>48</td>\n",
       "      <td>52</td>\n",
       "    </tr>\n",
       "    <tr>\n",
       "      <th>4</th>\n",
       "      <td>sub-0005</td>\n",
       "      <td>24.75</td>\n",
       "      <td>M</td>\n",
       "      <td>27.0</td>\n",
       "      <td>right</td>\n",
       "      <td>academic</td>\n",
       "      <td>24.0</td>\n",
       "      <td>32</td>\n",
       "      <td>51</td>\n",
       "      <td>41</td>\n",
       "      <td>51</td>\n",
       "      <td>53</td>\n",
       "    </tr>\n",
       "    <tr>\n",
       "      <th>...</th>\n",
       "      <td>...</td>\n",
       "      <td>...</td>\n",
       "      <td>...</td>\n",
       "      <td>...</td>\n",
       "      <td>...</td>\n",
       "      <td>...</td>\n",
       "      <td>...</td>\n",
       "      <td>...</td>\n",
       "      <td>...</td>\n",
       "      <td>...</td>\n",
       "      <td>...</td>\n",
       "      <td>...</td>\n",
       "    </tr>\n",
       "    <tr>\n",
       "      <th>221</th>\n",
       "      <td>sub-0222</td>\n",
       "      <td>22.00</td>\n",
       "      <td>F</td>\n",
       "      <td>20.0</td>\n",
       "      <td>right</td>\n",
       "      <td>academic</td>\n",
       "      <td>30.0</td>\n",
       "      <td>41</td>\n",
       "      <td>35</td>\n",
       "      <td>51</td>\n",
       "      <td>48</td>\n",
       "      <td>42</td>\n",
       "    </tr>\n",
       "    <tr>\n",
       "      <th>222</th>\n",
       "      <td>sub-0223</td>\n",
       "      <td>20.75</td>\n",
       "      <td>F</td>\n",
       "      <td>23.0</td>\n",
       "      <td>left</td>\n",
       "      <td>applied</td>\n",
       "      <td>26.0</td>\n",
       "      <td>33</td>\n",
       "      <td>41</td>\n",
       "      <td>54</td>\n",
       "      <td>36</td>\n",
       "      <td>41</td>\n",
       "    </tr>\n",
       "    <tr>\n",
       "      <th>223</th>\n",
       "      <td>sub-0224</td>\n",
       "      <td>21.75</td>\n",
       "      <td>M</td>\n",
       "      <td>20.0</td>\n",
       "      <td>right</td>\n",
       "      <td>academic</td>\n",
       "      <td>34.0</td>\n",
       "      <td>22</td>\n",
       "      <td>45</td>\n",
       "      <td>47</td>\n",
       "      <td>46</td>\n",
       "      <td>46</td>\n",
       "    </tr>\n",
       "    <tr>\n",
       "      <th>224</th>\n",
       "      <td>sub-0225</td>\n",
       "      <td>20.25</td>\n",
       "      <td>F</td>\n",
       "      <td>28.0</td>\n",
       "      <td>right</td>\n",
       "      <td>academic</td>\n",
       "      <td>27.0</td>\n",
       "      <td>48</td>\n",
       "      <td>32</td>\n",
       "      <td>43</td>\n",
       "      <td>42</td>\n",
       "      <td>37</td>\n",
       "    </tr>\n",
       "    <tr>\n",
       "      <th>225</th>\n",
       "      <td>sub-0226</td>\n",
       "      <td>20.00</td>\n",
       "      <td>M</td>\n",
       "      <td>20.0</td>\n",
       "      <td>right</td>\n",
       "      <td>applied</td>\n",
       "      <td>19.0</td>\n",
       "      <td>28</td>\n",
       "      <td>40</td>\n",
       "      <td>39</td>\n",
       "      <td>42</td>\n",
       "      <td>29</td>\n",
       "    </tr>\n",
       "  </tbody>\n",
       "</table>\n",
       "<p>226 rows × 12 columns</p>\n",
       "</div>"
      ],
      "text/plain": [
       "      subject    age sex   BMI handedness education_category  raven_score  \\\n",
       "0    sub-0001  25.50   M  21.0      right           academic         33.0   \n",
       "1    sub-0002  23.25   F  22.0      right           academic         19.0   \n",
       "2    sub-0003  25.00   F  23.0      right            applied         29.0   \n",
       "3    sub-0004  20.00   F  18.0      right           academic         24.0   \n",
       "4    sub-0005  24.75   M  27.0      right           academic         24.0   \n",
       "..        ...    ...  ..   ...        ...                ...          ...   \n",
       "221  sub-0222  22.00   F  20.0      right           academic         30.0   \n",
       "222  sub-0223  20.75   F  23.0       left            applied         26.0   \n",
       "223  sub-0224  21.75   M  20.0      right           academic         34.0   \n",
       "224  sub-0225  20.25   F  28.0      right           academic         27.0   \n",
       "225  sub-0226  20.00   M  20.0      right            applied         19.0   \n",
       "\n",
       "     NEO_N  NEO_E  NEO_O  NEO_A  NEO_C  \n",
       "0       23     40     52     47     32  \n",
       "1       22     47     34     53     46  \n",
       "2       26     42     37     48     48  \n",
       "3       32     42     36     48     52  \n",
       "4       32     51     41     51     53  \n",
       "..     ...    ...    ...    ...    ...  \n",
       "221     41     35     51     48     42  \n",
       "222     33     41     54     36     41  \n",
       "223     22     45     47     46     46  \n",
       "224     48     32     43     42     37  \n",
       "225     28     40     39     42     29  \n",
       "\n",
       "[226 rows x 12 columns]"
      ]
     },
     "execution_count": 16,
     "metadata": {},
     "output_type": "execute_result"
    }
   ],
   "source": [
    "df_demographics"
   ]
  },
  {
   "cell_type": "code",
   "execution_count": 11,
   "metadata": {},
   "outputs": [],
   "source": [
    "df.columns = df.columns.astype(str)\n",
    "X = list(df.columns)\n",
    "df_full = df.merge(df_demographics, on=\"subject\")"
   ]
  },
  {
   "cell_type": "code",
   "execution_count": 22,
   "metadata": {},
   "outputs": [],
   "source": [
    "y= df_full['sex'].astype(str)"
   ]
  },
  {
   "cell_type": "code",
   "execution_count": 23,
   "metadata": {},
   "outputs": [
    {
     "data": {
      "text/plain": [
       "<julearn.pipeline.pipeline_creator.PipelineCreator at 0x7f981749a750>"
      ]
     },
     "execution_count": 23,
     "metadata": {},
     "output_type": "execute_result"
    }
   ],
   "source": [
    "creator = PipelineCreator(problem_type=\"classification\")\n",
    "creator.add(\"zscore\")\n",
    "creator.add(\n",
    "    \"svm\",\n",
    "    C=(0.001, 100, \"log-uniform\"),\n",
    ")"
   ]
  },
  {
   "cell_type": "code",
   "execution_count": 25,
   "metadata": {},
   "outputs": [
    {
     "name": "stderr",
     "output_type": "stream",
     "text": [
      "/home/hsreekri/Hsreekri/lib/python3.11/site-packages/julearn/prepare.py:505: RuntimeWarning: The following columns are not defined in X_types: ['LH_VisCent_ExStr_1', 'LH_VisCent_ExStr_2', 'LH_VisCent_Striate_1', 'LH_VisCent_ExStr_3', 'LH_VisPeri_ExStrInf_1', 'LH_VisPeri_StriCal_1', 'LH_VisPeri_ExStrSup_1', 'LH_SomMotA_1', 'LH_SomMotA_2', 'LH_SomMotB_Aud_1', 'LH_SomMotB_S2_1', 'LH_SomMotB_S2_2', 'LH_SomMotB_Cent_1', 'LH_DorsAttnA_TempOcc_1', 'LH_DorsAttnA_ParOcc_1', 'LH_DorsAttnA_SPL_1', 'LH_DorsAttnB_PostC_1', 'LH_DorsAttnB_PostC_2', 'LH_DorsAttnB_PostC_3', 'LH_DorsAttnB_FEF_1', 'LH_SalVentAttnA_ParOper_1', 'LH_SalVentAttnA_Ins_1', 'LH_SalVentAttnA_Ins_2', 'LH_SalVentAttnA_ParMed_1', 'LH_SalVentAttnA_FrMed_1', 'LH_SalVentAttnB_PFCl_1', 'LH_SalVentAttnB_PFCmp_1', 'LH_LimbicB_OFC_1', 'LH_LimbicA_TempPole_1', 'LH_LimbicA_TempPole_2', 'LH_ContA_IPS_1', 'LH_ContA_PFCl_1', 'LH_ContA_PFCl_2', 'LH_ContB_PFClv_1', 'LH_ContC_pCun_1', 'LH_ContC_pCun_2', 'LH_ContC_Cingp_1', 'LH_DefaultA_PFCd_1', 'LH_DefaultA_pCunPCC_1', 'LH_DefaultA_PFCm_1', 'LH_DefaultB_Temp_1', 'LH_DefaultB_Temp_2', 'LH_DefaultB_IPL_1', 'LH_DefaultB_PFCd_1', 'LH_DefaultB_PFCl_1', 'LH_DefaultB_PFCv_1', 'LH_DefaultB_PFCv_2', 'LH_DefaultC_Rsp_1', 'LH_DefaultC_PHC_1', 'LH_TempPar_1', 'RH_VisCent_ExStr_1', 'RH_VisCent_ExStr_2', 'RH_VisCent_ExStr_3', 'RH_VisPeri_StriCal_1', 'RH_VisPeri_ExStrInf_1', 'RH_VisPeri_ExStrSup_1', 'RH_SomMotA_1', 'RH_SomMotA_2', 'RH_SomMotA_3', 'RH_SomMotA_4', 'RH_SomMotB_Aud_1', 'RH_SomMotB_S2_1', 'RH_SomMotB_S2_2', 'RH_SomMotB_Cent_1', 'RH_DorsAttnA_TempOcc_1', 'RH_DorsAttnA_ParOcc_1', 'RH_DorsAttnA_SPL_1', 'RH_DorsAttnB_PostC_1', 'RH_DorsAttnB_PostC_2', 'RH_DorsAttnB_FEF_1', 'RH_SalVentAttnA_ParOper_1', 'RH_SalVentAttnA_Ins_1', 'RH_SalVentAttnA_ParMed_1', 'RH_SalVentAttnA_FrMed_1', 'RH_SalVentAttnB_IPL_1', 'RH_SalVentAttnB_PFCl_1', 'RH_SalVentAttnB_PFCmp_1', 'RH_LimbicB_OFC_1', 'RH_LimbicA_TempPole_1', 'RH_ContA_IPS_1', 'RH_ContA_PFCl_1', 'RH_ContA_PFCl_2', 'RH_ContB_Temp_1', 'RH_ContB_IPL_1', 'RH_ContB_PFCld_1', 'RH_ContB_PFClv_1', 'RH_ContC_Cingp_1', 'RH_ContC_pCun_1', 'RH_DefaultA_IPL_1', 'RH_DefaultA_PFCd_1', 'RH_DefaultA_pCunPCC_1', 'RH_DefaultA_PFCm_1', 'RH_DefaultB_PFCd_1', 'RH_DefaultB_PFCv_1', 'RH_DefaultB_PFCv_2', 'RH_DefaultC_Rsp_1', 'RH_DefaultC_PHC_1', 'RH_TempPar_1', 'RH_TempPar_2', 'RH_TempPar_3']. They will be treated as continuous.\n",
      "  warn_with_log(\n",
      "\n",
      "/home/hsreekri/Hsreekri/lib/python3.11/site-packages/julearn/pipeline/pipeline_creator.py:1041: ExperimentalWarning: OptunaSearchCV is experimental (supported from v0.17.0). The interface can change in the future.\n",
      "  pipeline = search(  # type: ignore\n",
      "\n"
     ]
    },
    {
     "ename": "TypeError",
     "evalue": "'<' not supported between instances of 'str' and 'float'",
     "output_type": "error",
     "traceback": [
      "\u001b[0;31m---------------------------------------------------------------------------\u001b[0m",
      "\u001b[0;31mTypeError\u001b[0m                                 Traceback (most recent call last)",
      "Cell \u001b[0;32mIn[25], line 5\u001b[0m\n\u001b[1;32m      1\u001b[0m search_params \u001b[38;5;241m=\u001b[39m {\n\u001b[1;32m      2\u001b[0m     \u001b[38;5;124m\"\u001b[39m\u001b[38;5;124mkind\u001b[39m\u001b[38;5;124m\"\u001b[39m: \u001b[38;5;124m\"\u001b[39m\u001b[38;5;124moptuna\u001b[39m\u001b[38;5;124m\"\u001b[39m,\n\u001b[1;32m      3\u001b[0m     \u001b[38;5;124m\"\u001b[39m\u001b[38;5;124mcv\u001b[39m\u001b[38;5;124m\"\u001b[39m: \u001b[38;5;241m5\u001b[39m,\n\u001b[1;32m      4\u001b[0m }\n\u001b[0;32m----> 5\u001b[0m scores, model, inspector \u001b[38;5;241m=\u001b[39m \u001b[43mrun_cross_validation\u001b[49m\u001b[43m(\u001b[49m\n\u001b[1;32m      6\u001b[0m \u001b[43m    \u001b[49m\u001b[43mX\u001b[49m\u001b[38;5;241;43m=\u001b[39;49m\u001b[43mX\u001b[49m\u001b[43m,\u001b[49m\n\u001b[1;32m      7\u001b[0m \u001b[43m    \u001b[49m\u001b[43my\u001b[49m\u001b[38;5;241;43m=\u001b[39;49m\u001b[38;5;28;43mstr\u001b[39;49m\u001b[43m(\u001b[49m\u001b[38;5;124;43m'\u001b[39;49m\u001b[38;5;124;43msex\u001b[39;49m\u001b[38;5;124;43m'\u001b[39;49m\u001b[43m)\u001b[49m\u001b[43m,\u001b[49m\n\u001b[1;32m      8\u001b[0m \u001b[43m    \u001b[49m\u001b[43mdata\u001b[49m\u001b[38;5;241;43m=\u001b[39;49m\u001b[43mdf_full\u001b[49m\u001b[43m,\u001b[49m\n\u001b[1;32m      9\u001b[0m \u001b[43m    \u001b[49m\u001b[43msearch_params\u001b[49m\u001b[38;5;241;43m=\u001b[39;49m\u001b[43msearch_params\u001b[49m\u001b[43m,\u001b[49m\n\u001b[1;32m     10\u001b[0m \u001b[43m    \u001b[49m\u001b[43mmodel\u001b[49m\u001b[38;5;241;43m=\u001b[39;49m\u001b[43mcreator\u001b[49m\u001b[43m,\u001b[49m\n\u001b[1;32m     11\u001b[0m \u001b[43m    \u001b[49m\u001b[43mreturn_train_score\u001b[49m\u001b[38;5;241;43m=\u001b[39;49m\u001b[38;5;28;43;01mTrue\u001b[39;49;00m\u001b[43m,\u001b[49m\n\u001b[1;32m     12\u001b[0m \u001b[43m    \u001b[49m\u001b[43mreturn_inspector\u001b[49m\u001b[38;5;241;43m=\u001b[39;49m\u001b[38;5;28;43;01mTrue\u001b[39;49;00m\u001b[43m,\u001b[49m\n\u001b[1;32m     13\u001b[0m \u001b[43m    \u001b[49m\u001b[43mcv\u001b[49m\u001b[38;5;241;43m=\u001b[39;49m\u001b[38;5;241;43m5\u001b[39;49m\u001b[43m,\u001b[49m\n\u001b[1;32m     14\u001b[0m \u001b[43m)\u001b[49m\n",
      "File \u001b[0;32m~/Hsreekri/lib/python3.11/site-packages/julearn/api.py:362\u001b[0m, in \u001b[0;36mrun_cross_validation\u001b[0;34m(X, y, model, data, X_types, problem_type, preprocess, return_estimator, return_inspector, return_train_score, cv, groups, scoring, pos_labels, model_params, search_params, seed, n_jobs, verbose)\u001b[0m\n\u001b[1;32m    359\u001b[0m logger\u001b[38;5;241m.\u001b[39minfo(\u001b[38;5;124m\"\u001b[39m\u001b[38;5;124m\"\u001b[39m)\n\u001b[1;32m    361\u001b[0m \u001b[38;5;28;01mif\u001b[39;00m problem_type \u001b[38;5;241m==\u001b[39m \u001b[38;5;124m\"\u001b[39m\u001b[38;5;124mclassification\u001b[39m\u001b[38;5;124m\"\u001b[39m:\n\u001b[0;32m--> 362\u001b[0m     logger\u001b[38;5;241m.\u001b[39minfo(\u001b[38;5;124mf\u001b[39m\u001b[38;5;124m\"\u001b[39m\u001b[38;5;130;01m\\t\u001b[39;00m\u001b[38;5;124mNumber of classes: \u001b[39m\u001b[38;5;132;01m{\u001b[39;00m\u001b[38;5;28mlen\u001b[39m(\u001b[43mnp\u001b[49m\u001b[38;5;241;43m.\u001b[39;49m\u001b[43munique\u001b[49m\u001b[43m(\u001b[49m\u001b[43mdf_y\u001b[49m\u001b[43m)\u001b[49m)\u001b[38;5;132;01m}\u001b[39;00m\u001b[38;5;124m\"\u001b[39m)\n\u001b[1;32m    363\u001b[0m     logger\u001b[38;5;241m.\u001b[39minfo(\u001b[38;5;124mf\u001b[39m\u001b[38;5;124m\"\u001b[39m\u001b[38;5;130;01m\\t\u001b[39;00m\u001b[38;5;124mTarget type: \u001b[39m\u001b[38;5;132;01m{\u001b[39;00mdf_y\u001b[38;5;241m.\u001b[39mdtype\u001b[38;5;132;01m}\u001b[39;00m\u001b[38;5;124m\"\u001b[39m)\n\u001b[1;32m    364\u001b[0m     logger\u001b[38;5;241m.\u001b[39minfo(\u001b[38;5;124mf\u001b[39m\u001b[38;5;124m\"\u001b[39m\u001b[38;5;130;01m\\t\u001b[39;00m\u001b[38;5;124mClass distributions: \u001b[39m\u001b[38;5;132;01m{\u001b[39;00mdf_y\u001b[38;5;241m.\u001b[39mvalue_counts()\u001b[38;5;132;01m}\u001b[39;00m\u001b[38;5;124m\"\u001b[39m)\n",
      "File \u001b[0;32m~/Hsreekri/lib/python3.11/site-packages/numpy/lib/arraysetops.py:274\u001b[0m, in \u001b[0;36munique\u001b[0;34m(ar, return_index, return_inverse, return_counts, axis, equal_nan)\u001b[0m\n\u001b[1;32m    272\u001b[0m ar \u001b[38;5;241m=\u001b[39m np\u001b[38;5;241m.\u001b[39masanyarray(ar)\n\u001b[1;32m    273\u001b[0m \u001b[38;5;28;01mif\u001b[39;00m axis \u001b[38;5;129;01mis\u001b[39;00m \u001b[38;5;28;01mNone\u001b[39;00m:\n\u001b[0;32m--> 274\u001b[0m     ret \u001b[38;5;241m=\u001b[39m \u001b[43m_unique1d\u001b[49m\u001b[43m(\u001b[49m\u001b[43mar\u001b[49m\u001b[43m,\u001b[49m\u001b[43m \u001b[49m\u001b[43mreturn_index\u001b[49m\u001b[43m,\u001b[49m\u001b[43m \u001b[49m\u001b[43mreturn_inverse\u001b[49m\u001b[43m,\u001b[49m\u001b[43m \u001b[49m\u001b[43mreturn_counts\u001b[49m\u001b[43m,\u001b[49m\u001b[43m \u001b[49m\n\u001b[1;32m    275\u001b[0m \u001b[43m                    \u001b[49m\u001b[43mequal_nan\u001b[49m\u001b[38;5;241;43m=\u001b[39;49m\u001b[43mequal_nan\u001b[49m\u001b[43m)\u001b[49m\n\u001b[1;32m    276\u001b[0m     \u001b[38;5;28;01mreturn\u001b[39;00m _unpack_tuple(ret)\n\u001b[1;32m    278\u001b[0m \u001b[38;5;66;03m# axis was specified and not None\u001b[39;00m\n",
      "File \u001b[0;32m~/Hsreekri/lib/python3.11/site-packages/numpy/lib/arraysetops.py:336\u001b[0m, in \u001b[0;36m_unique1d\u001b[0;34m(ar, return_index, return_inverse, return_counts, equal_nan)\u001b[0m\n\u001b[1;32m    334\u001b[0m     aux \u001b[38;5;241m=\u001b[39m ar[perm]\n\u001b[1;32m    335\u001b[0m \u001b[38;5;28;01melse\u001b[39;00m:\n\u001b[0;32m--> 336\u001b[0m     \u001b[43mar\u001b[49m\u001b[38;5;241;43m.\u001b[39;49m\u001b[43msort\u001b[49m\u001b[43m(\u001b[49m\u001b[43m)\u001b[49m\n\u001b[1;32m    337\u001b[0m     aux \u001b[38;5;241m=\u001b[39m ar\n\u001b[1;32m    338\u001b[0m mask \u001b[38;5;241m=\u001b[39m np\u001b[38;5;241m.\u001b[39mempty(aux\u001b[38;5;241m.\u001b[39mshape, dtype\u001b[38;5;241m=\u001b[39mnp\u001b[38;5;241m.\u001b[39mbool_)\n",
      "\u001b[0;31mTypeError\u001b[0m: '<' not supported between instances of 'str' and 'float'"
     ]
    }
   ],
   "source": [
    "search_params = {\n",
    "    \"kind\": \"optuna\",\n",
    "    \"cv\": 5,\n",
    "}\n",
    "scores, model, inspector = run_cross_validation(\n",
    "    X=X,\n",
    "    y=str('sex'),\n",
    "    data=df_full,\n",
    "    search_params=search_params,\n",
    "    model=creator,\n",
    "    return_train_score=True,\n",
    "    return_inspector=True,\n",
    "    cv=5,\n",
    ")"
   ]
  },
  {
   "cell_type": "code",
   "execution_count": 26,
   "metadata": {},
   "outputs": [
    {
     "name": "stderr",
     "output_type": "stream",
     "text": [
      "/home/hsreekri/Hsreekri/lib/python3.11/site-packages/julearn/prepare.py:505: RuntimeWarning: The following columns are not defined in X_types: ['LH_VisCent_ExStr_1', 'LH_VisCent_ExStr_2', 'LH_VisCent_Striate_1', 'LH_VisCent_ExStr_3', 'LH_VisPeri_ExStrInf_1', 'LH_VisPeri_StriCal_1', 'LH_VisPeri_ExStrSup_1', 'LH_SomMotA_1', 'LH_SomMotA_2', 'LH_SomMotB_Aud_1', 'LH_SomMotB_S2_1', 'LH_SomMotB_S2_2', 'LH_SomMotB_Cent_1', 'LH_DorsAttnA_TempOcc_1', 'LH_DorsAttnA_ParOcc_1', 'LH_DorsAttnA_SPL_1', 'LH_DorsAttnB_PostC_1', 'LH_DorsAttnB_PostC_2', 'LH_DorsAttnB_PostC_3', 'LH_DorsAttnB_FEF_1', 'LH_SalVentAttnA_ParOper_1', 'LH_SalVentAttnA_Ins_1', 'LH_SalVentAttnA_Ins_2', 'LH_SalVentAttnA_ParMed_1', 'LH_SalVentAttnA_FrMed_1', 'LH_SalVentAttnB_PFCl_1', 'LH_SalVentAttnB_PFCmp_1', 'LH_LimbicB_OFC_1', 'LH_LimbicA_TempPole_1', 'LH_LimbicA_TempPole_2', 'LH_ContA_IPS_1', 'LH_ContA_PFCl_1', 'LH_ContA_PFCl_2', 'LH_ContB_PFClv_1', 'LH_ContC_pCun_1', 'LH_ContC_pCun_2', 'LH_ContC_Cingp_1', 'LH_DefaultA_PFCd_1', 'LH_DefaultA_pCunPCC_1', 'LH_DefaultA_PFCm_1', 'LH_DefaultB_Temp_1', 'LH_DefaultB_Temp_2', 'LH_DefaultB_IPL_1', 'LH_DefaultB_PFCd_1', 'LH_DefaultB_PFCl_1', 'LH_DefaultB_PFCv_1', 'LH_DefaultB_PFCv_2', 'LH_DefaultC_Rsp_1', 'LH_DefaultC_PHC_1', 'LH_TempPar_1', 'RH_VisCent_ExStr_1', 'RH_VisCent_ExStr_2', 'RH_VisCent_ExStr_3', 'RH_VisPeri_StriCal_1', 'RH_VisPeri_ExStrInf_1', 'RH_VisPeri_ExStrSup_1', 'RH_SomMotA_1', 'RH_SomMotA_2', 'RH_SomMotA_3', 'RH_SomMotA_4', 'RH_SomMotB_Aud_1', 'RH_SomMotB_S2_1', 'RH_SomMotB_S2_2', 'RH_SomMotB_Cent_1', 'RH_DorsAttnA_TempOcc_1', 'RH_DorsAttnA_ParOcc_1', 'RH_DorsAttnA_SPL_1', 'RH_DorsAttnB_PostC_1', 'RH_DorsAttnB_PostC_2', 'RH_DorsAttnB_FEF_1', 'RH_SalVentAttnA_ParOper_1', 'RH_SalVentAttnA_Ins_1', 'RH_SalVentAttnA_ParMed_1', 'RH_SalVentAttnA_FrMed_1', 'RH_SalVentAttnB_IPL_1', 'RH_SalVentAttnB_PFCl_1', 'RH_SalVentAttnB_PFCmp_1', 'RH_LimbicB_OFC_1', 'RH_LimbicA_TempPole_1', 'RH_ContA_IPS_1', 'RH_ContA_PFCl_1', 'RH_ContA_PFCl_2', 'RH_ContB_Temp_1', 'RH_ContB_IPL_1', 'RH_ContB_PFCld_1', 'RH_ContB_PFClv_1', 'RH_ContC_Cingp_1', 'RH_ContC_pCun_1', 'RH_DefaultA_IPL_1', 'RH_DefaultA_PFCd_1', 'RH_DefaultA_pCunPCC_1', 'RH_DefaultA_PFCm_1', 'RH_DefaultB_PFCd_1', 'RH_DefaultB_PFCv_1', 'RH_DefaultB_PFCv_2', 'RH_DefaultC_Rsp_1', 'RH_DefaultC_PHC_1', 'RH_TempPar_1', 'RH_TempPar_2', 'RH_TempPar_3']. They will be treated as continuous.\n",
      "  warn_with_log(\n",
      "\n"
     ]
    },
    {
     "ename": "TypeError",
     "evalue": "'<' not supported between instances of 'str' and 'float'",
     "output_type": "error",
     "traceback": [
      "\u001b[0;31m---------------------------------------------------------------------------\u001b[0m",
      "\u001b[0;31mTypeError\u001b[0m                                 Traceback (most recent call last)",
      "Cell \u001b[0;32mIn[26], line 1\u001b[0m\n\u001b[0;32m----> 1\u001b[0m scores \u001b[38;5;241m=\u001b[39m \u001b[43mrun_cross_validation\u001b[49m\u001b[43m(\u001b[49m\n\u001b[1;32m      2\u001b[0m \u001b[43m    \u001b[49m\u001b[43mX\u001b[49m\u001b[38;5;241;43m=\u001b[39;49m\u001b[43mX\u001b[49m\u001b[43m,\u001b[49m\n\u001b[1;32m      3\u001b[0m \u001b[43m    \u001b[49m\u001b[43my\u001b[49m\u001b[38;5;241;43m=\u001b[39;49m\u001b[38;5;124;43m'\u001b[39;49m\u001b[38;5;124;43msex\u001b[39;49m\u001b[38;5;124;43m'\u001b[39;49m\u001b[43m,\u001b[49m\n\u001b[1;32m      4\u001b[0m \u001b[43m    \u001b[49m\u001b[43mdata\u001b[49m\u001b[38;5;241;43m=\u001b[39;49m\u001b[43mdf_full\u001b[49m\u001b[43m,\u001b[49m\n\u001b[1;32m      5\u001b[0m \u001b[43m    \u001b[49m\u001b[43mmodel\u001b[49m\u001b[38;5;241;43m=\u001b[39;49m\u001b[38;5;124;43m\"\u001b[39;49m\u001b[38;5;124;43msvm\u001b[39;49m\u001b[38;5;124;43m\"\u001b[39;49m\u001b[43m,\u001b[49m\n\u001b[1;32m      6\u001b[0m \u001b[43m    \u001b[49m\u001b[43mproblem_type\u001b[49m\u001b[38;5;241;43m=\u001b[39;49m\u001b[38;5;124;43m\"\u001b[39;49m\u001b[38;5;124;43mclassification\u001b[39;49m\u001b[38;5;124;43m\"\u001b[39;49m\u001b[43m,\u001b[49m\n\u001b[1;32m      7\u001b[0m \u001b[43m    \u001b[49m\u001b[43mpreprocess\u001b[49m\u001b[38;5;241;43m=\u001b[39;49m\u001b[38;5;124;43m\"\u001b[39;49m\u001b[38;5;124;43mzscore\u001b[39;49m\u001b[38;5;124;43m\"\u001b[39;49m\u001b[43m,\u001b[49m\n\u001b[1;32m      8\u001b[0m \u001b[43m)\u001b[49m\n",
      "File \u001b[0;32m~/Hsreekri/lib/python3.11/site-packages/julearn/api.py:362\u001b[0m, in \u001b[0;36mrun_cross_validation\u001b[0;34m(X, y, model, data, X_types, problem_type, preprocess, return_estimator, return_inspector, return_train_score, cv, groups, scoring, pos_labels, model_params, search_params, seed, n_jobs, verbose)\u001b[0m\n\u001b[1;32m    359\u001b[0m logger\u001b[38;5;241m.\u001b[39minfo(\u001b[38;5;124m\"\u001b[39m\u001b[38;5;124m\"\u001b[39m)\n\u001b[1;32m    361\u001b[0m \u001b[38;5;28;01mif\u001b[39;00m problem_type \u001b[38;5;241m==\u001b[39m \u001b[38;5;124m\"\u001b[39m\u001b[38;5;124mclassification\u001b[39m\u001b[38;5;124m\"\u001b[39m:\n\u001b[0;32m--> 362\u001b[0m     logger\u001b[38;5;241m.\u001b[39minfo(\u001b[38;5;124mf\u001b[39m\u001b[38;5;124m\"\u001b[39m\u001b[38;5;130;01m\\t\u001b[39;00m\u001b[38;5;124mNumber of classes: \u001b[39m\u001b[38;5;132;01m{\u001b[39;00m\u001b[38;5;28mlen\u001b[39m(\u001b[43mnp\u001b[49m\u001b[38;5;241;43m.\u001b[39;49m\u001b[43munique\u001b[49m\u001b[43m(\u001b[49m\u001b[43mdf_y\u001b[49m\u001b[43m)\u001b[49m)\u001b[38;5;132;01m}\u001b[39;00m\u001b[38;5;124m\"\u001b[39m)\n\u001b[1;32m    363\u001b[0m     logger\u001b[38;5;241m.\u001b[39minfo(\u001b[38;5;124mf\u001b[39m\u001b[38;5;124m\"\u001b[39m\u001b[38;5;130;01m\\t\u001b[39;00m\u001b[38;5;124mTarget type: \u001b[39m\u001b[38;5;132;01m{\u001b[39;00mdf_y\u001b[38;5;241m.\u001b[39mdtype\u001b[38;5;132;01m}\u001b[39;00m\u001b[38;5;124m\"\u001b[39m)\n\u001b[1;32m    364\u001b[0m     logger\u001b[38;5;241m.\u001b[39minfo(\u001b[38;5;124mf\u001b[39m\u001b[38;5;124m\"\u001b[39m\u001b[38;5;130;01m\\t\u001b[39;00m\u001b[38;5;124mClass distributions: \u001b[39m\u001b[38;5;132;01m{\u001b[39;00mdf_y\u001b[38;5;241m.\u001b[39mvalue_counts()\u001b[38;5;132;01m}\u001b[39;00m\u001b[38;5;124m\"\u001b[39m)\n",
      "File \u001b[0;32m~/Hsreekri/lib/python3.11/site-packages/numpy/lib/arraysetops.py:274\u001b[0m, in \u001b[0;36munique\u001b[0;34m(ar, return_index, return_inverse, return_counts, axis, equal_nan)\u001b[0m\n\u001b[1;32m    272\u001b[0m ar \u001b[38;5;241m=\u001b[39m np\u001b[38;5;241m.\u001b[39masanyarray(ar)\n\u001b[1;32m    273\u001b[0m \u001b[38;5;28;01mif\u001b[39;00m axis \u001b[38;5;129;01mis\u001b[39;00m \u001b[38;5;28;01mNone\u001b[39;00m:\n\u001b[0;32m--> 274\u001b[0m     ret \u001b[38;5;241m=\u001b[39m \u001b[43m_unique1d\u001b[49m\u001b[43m(\u001b[49m\u001b[43mar\u001b[49m\u001b[43m,\u001b[49m\u001b[43m \u001b[49m\u001b[43mreturn_index\u001b[49m\u001b[43m,\u001b[49m\u001b[43m \u001b[49m\u001b[43mreturn_inverse\u001b[49m\u001b[43m,\u001b[49m\u001b[43m \u001b[49m\u001b[43mreturn_counts\u001b[49m\u001b[43m,\u001b[49m\u001b[43m \u001b[49m\n\u001b[1;32m    275\u001b[0m \u001b[43m                    \u001b[49m\u001b[43mequal_nan\u001b[49m\u001b[38;5;241;43m=\u001b[39;49m\u001b[43mequal_nan\u001b[49m\u001b[43m)\u001b[49m\n\u001b[1;32m    276\u001b[0m     \u001b[38;5;28;01mreturn\u001b[39;00m _unpack_tuple(ret)\n\u001b[1;32m    278\u001b[0m \u001b[38;5;66;03m# axis was specified and not None\u001b[39;00m\n",
      "File \u001b[0;32m~/Hsreekri/lib/python3.11/site-packages/numpy/lib/arraysetops.py:336\u001b[0m, in \u001b[0;36m_unique1d\u001b[0;34m(ar, return_index, return_inverse, return_counts, equal_nan)\u001b[0m\n\u001b[1;32m    334\u001b[0m     aux \u001b[38;5;241m=\u001b[39m ar[perm]\n\u001b[1;32m    335\u001b[0m \u001b[38;5;28;01melse\u001b[39;00m:\n\u001b[0;32m--> 336\u001b[0m     \u001b[43mar\u001b[49m\u001b[38;5;241;43m.\u001b[39;49m\u001b[43msort\u001b[49m\u001b[43m(\u001b[49m\u001b[43m)\u001b[49m\n\u001b[1;32m    337\u001b[0m     aux \u001b[38;5;241m=\u001b[39m ar\n\u001b[1;32m    338\u001b[0m mask \u001b[38;5;241m=\u001b[39m np\u001b[38;5;241m.\u001b[39mempty(aux\u001b[38;5;241m.\u001b[39mshape, dtype\u001b[38;5;241m=\u001b[39mnp\u001b[38;5;241m.\u001b[39mbool_)\n",
      "\u001b[0;31mTypeError\u001b[0m: '<' not supported between instances of 'str' and 'float'"
     ]
    }
   ],
   "source": [
    "scores = run_cross_validation(\n",
    "    X=X,\n",
    "    y='sex',\n",
    "    data=df_full,\n",
    "    model=\"svm\",\n",
    "    problem_type=\"classification\",\n",
    "    preprocess=\"zscore\",\n",
    ")"
   ]
  },
  {
   "cell_type": "code",
   "execution_count": null,
   "metadata": {},
   "outputs": [],
   "source": []
  }
 ],
 "metadata": {
  "kernelspec": {
   "display_name": "Hsreekri_venv",
   "language": "python",
   "name": "hsreekri"
  },
  "language_info": {
   "codemirror_mode": {
    "name": "ipython",
    "version": 3
   },
   "file_extension": ".py",
   "mimetype": "text/x-python",
   "name": "python",
   "nbconvert_exporter": "python",
   "pygments_lexer": "ipython3",
   "version": "3.11.2"
  }
 },
 "nbformat": 4,
 "nbformat_minor": 2
}

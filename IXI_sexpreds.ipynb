{
 "cells": [
  {
   "cell_type": "code",
   "execution_count": 1,
   "metadata": {},
   "outputs": [
    {
     "name": "stderr",
     "output_type": "stream",
     "text": [
      "It is highly recommended to configure Git before using DataLad. Set both 'user.name' and 'user.email' configuration variables.\n"
     ]
    }
   ],
   "source": [
    "from junifer.storage import HDF5FeatureStorage\n",
    "from julearn.api import run_cross_validation\n",
    "from julearn.pipeline import PipelineCreator\n",
    "from julearn.viz import plot_scores\n",
    "from julearn.stats.corrected_ttest import corrected_ttest\n",
    "import pandas as pd\n",
    "import seaborn as sns\n",
    "import matplotlib.pyplot as plt\n",
    "from sklearn.metrics import mean_absolute_error\n",
    "import numpy as np"
   ]
  },
  {
   "cell_type": "code",
   "execution_count": 2,
   "metadata": {},
   "outputs": [],
   "source": [
    "with pd.HDFStore('/home/hsreekri/Julearn_predictions/data/IXI_HistogramGMVdata.h5', mode='r') as store:\n",
    "    df_hists = store['histograms'] \n",
    "    df_bins = store['bins']\n",
    "    \n",
    "df_hists.index.name = 'subject'\n",
    "df_hists = df_hists.reset_index()\n"
   ]
  },
  {
   "cell_type": "code",
   "execution_count": 3,
   "metadata": {},
   "outputs": [],
   "source": [
    "df_demographics = pd.read_csv('/home/hsreekri/Julearn_predictions/data/IXI_demograpic_data.csv',sep=',')\n",
    "df_demographics.rename(columns={\"IXI_ID\": \"subject\"}, inplace=True)\n",
    "df_demographics['subject'] = df_demographics['subject'].apply(lambda x: f'sub-IXI{x}')"
   ]
  },
  {
   "cell_type": "code",
   "execution_count": 4,
   "metadata": {},
   "outputs": [],
   "source": [
    "df_hists.columns = df_hists.columns.astype(str)\n",
    "X_hists = list(df_hists.columns)\n",
    "X_hists = X_hists[1:100]\n",
    "df_full_histograms = df_hists.merge(df_demographics, on=\"subject\")\n"
   ]
  },
  {
   "cell_type": "code",
   "execution_count": 5,
   "metadata": {},
   "outputs": [],
   "source": [
    "df_full_histograms = df_full_histograms.dropna()"
   ]
  },
  {
   "cell_type": "code",
   "execution_count": 6,
   "metadata": {},
   "outputs": [
    {
     "data": {
      "text/plain": [
       "<julearn.pipeline.pipeline_creator.PipelineCreator at 0x7f3cf42ca7d0>"
      ]
     },
     "execution_count": 6,
     "metadata": {},
     "output_type": "execute_result"
    }
   ],
   "source": [
    "creator = PipelineCreator(problem_type=\"classification\")\n",
    "creator.add(\"zscore\")\n",
    "creator.add(\n",
    "    \"svm\",\n",
    "    C=(1, 100, \"log-uniform\")\n",
    ")"
   ]
  },
  {
   "cell_type": "code",
   "execution_count": 7,
   "metadata": {},
   "outputs": [
    {
     "name": "stderr",
     "output_type": "stream",
     "text": [
      "/home/hsreekri/Hsreekri/lib/python3.11/site-packages/julearn/prepare.py:505: RuntimeWarning: The following columns are not defined in X_types: ['Bin_1', 'Bin_2', 'Bin_3', 'Bin_4', 'Bin_5', 'Bin_6', 'Bin_7', 'Bin_8', 'Bin_9', 'Bin_10', 'Bin_11', 'Bin_12', 'Bin_13', 'Bin_14', 'Bin_15', 'Bin_16', 'Bin_17', 'Bin_18', 'Bin_19', 'Bin_20', 'Bin_21', 'Bin_22', 'Bin_23', 'Bin_24', 'Bin_25', 'Bin_26', 'Bin_27', 'Bin_28', 'Bin_29', 'Bin_30', 'Bin_31', 'Bin_32', 'Bin_33', 'Bin_34', 'Bin_35', 'Bin_36', 'Bin_37', 'Bin_38', 'Bin_39', 'Bin_40', 'Bin_41', 'Bin_42', 'Bin_43', 'Bin_44', 'Bin_45', 'Bin_46', 'Bin_47', 'Bin_48', 'Bin_49', 'Bin_50', 'Bin_51', 'Bin_52', 'Bin_53', 'Bin_54', 'Bin_55', 'Bin_56', 'Bin_57', 'Bin_58', 'Bin_59', 'Bin_60', 'Bin_61', 'Bin_62', 'Bin_63', 'Bin_64', 'Bin_65', 'Bin_66', 'Bin_67', 'Bin_68', 'Bin_69', 'Bin_70', 'Bin_71', 'Bin_72', 'Bin_73', 'Bin_74', 'Bin_75', 'Bin_76', 'Bin_77', 'Bin_78', 'Bin_79', 'Bin_80', 'Bin_81', 'Bin_82', 'Bin_83', 'Bin_84', 'Bin_85', 'Bin_86', 'Bin_87', 'Bin_88', 'Bin_89', 'Bin_90', 'Bin_91', 'Bin_92', 'Bin_93', 'Bin_94', 'Bin_95', 'Bin_96', 'Bin_97', 'Bin_98', 'Bin_99']. They will be treated as continuous.\n",
      "  warn_with_log(\n",
      "\n",
      "/home/hsreekri/Hsreekri/lib/python3.11/site-packages/julearn/pipeline/pipeline_creator.py:1041: ExperimentalWarning: OptunaSearchCV is experimental (supported from v0.17.0). The interface can change in the future.\n",
      "  pipeline = search(  # type: ignore\n",
      "\n",
      "/home/hsreekri/Hsreekri/lib/python3.11/site-packages/sklearn/base.py:125: ExperimentalWarning: OptunaSearchCV is experimental (supported from v0.17.0). The interface can change in the future.\n",
      "  new_object = klass(**new_object_params)\n",
      "\n",
      "[I 2024-08-15 13:04:58,197] A new study created in memory with name: no-name-66c47d79-0ef1-4615-affc-84f5cc9ddc6e\n",
      "[I 2024-08-15 13:04:58,245] Trial 0 finished with value: 0.5923292273236282 and parameters: {'svm__C': 1}. Best is trial 0 with value: 0.5923292273236282.\n",
      "[I 2024-08-15 13:04:58,294] Trial 1 finished with value: 0.5793393057110863 and parameters: {'svm__C': 11}. Best is trial 0 with value: 0.5923292273236282.\n",
      "[I 2024-08-15 13:04:58,344] Trial 2 finished with value: 0.5873460246360582 and parameters: {'svm__C': 15}. Best is trial 0 with value: 0.5923292273236282.\n",
      "[I 2024-08-15 13:04:58,390] Trial 3 finished with value: 0.6136618141097424 and parameters: {'svm__C': 4}. Best is trial 3 with value: 0.6136618141097424.\n",
      "[I 2024-08-15 13:04:58,441] Trial 4 finished with value: 0.58994960806271 and parameters: {'svm__C': 26}. Best is trial 3 with value: 0.6136618141097424.\n",
      "[I 2024-08-15 13:04:58,492] Trial 5 finished with value: 0.5846864501679732 and parameters: {'svm__C': 29}. Best is trial 3 with value: 0.6136618141097424.\n",
      "[I 2024-08-15 13:04:58,537] Trial 6 finished with value: 0.613689809630459 and parameters: {'svm__C': 3}. Best is trial 6 with value: 0.613689809630459.\n",
      "[I 2024-08-15 13:04:58,582] Trial 7 finished with value: 0.5923292273236282 and parameters: {'svm__C': 1}. Best is trial 6 with value: 0.613689809630459.\n",
      "[I 2024-08-15 13:04:58,627] Trial 8 finished with value: 0.6136618141097424 and parameters: {'svm__C': 4}. Best is trial 6 with value: 0.613689809630459.\n",
      "[I 2024-08-15 13:04:58,678] Trial 9 finished with value: 0.5820548712206047 and parameters: {'svm__C': 33}. Best is trial 6 with value: 0.613689809630459.\n",
      "/home/hsreekri/Hsreekri/lib/python3.11/site-packages/sklearn/base.py:125: ExperimentalWarning: OptunaSearchCV is experimental (supported from v0.17.0). The interface can change in the future.\n",
      "  new_object = klass(**new_object_params)\n",
      "\n",
      "[I 2024-08-15 13:04:58,705] A new study created in memory with name: no-name-58271fc2-fca4-4f7d-8443-c0e190b34a61\n",
      "[I 2024-08-15 13:04:58,754] Trial 0 finished with value: 0.5779675251959686 and parameters: {'svm__C': 8}. Best is trial 0 with value: 0.5779675251959686.\n",
      "[I 2024-08-15 13:04:58,804] Trial 1 finished with value: 0.5674972004479283 and parameters: {'svm__C': 21}. Best is trial 0 with value: 0.5779675251959686.\n",
      "[I 2024-08-15 13:04:58,850] Trial 2 finished with value: 0.5909574468085106 and parameters: {'svm__C': 4}. Best is trial 2 with value: 0.5909574468085106.\n",
      "[I 2024-08-15 13:04:58,895] Trial 3 finished with value: 0.6041713325867861 and parameters: {'svm__C': 1}. Best is trial 3 with value: 0.6041713325867861.\n",
      "[I 2024-08-15 13:04:58,942] Trial 4 finished with value: 0.5804591265397536 and parameters: {'svm__C': 6}. Best is trial 3 with value: 0.6041713325867861.\n",
      "[I 2024-08-15 13:04:58,987] Trial 5 finished with value: 0.6041713325867861 and parameters: {'svm__C': 1}. Best is trial 3 with value: 0.6041713325867861.\n",
      "[I 2024-08-15 13:04:59,038] Trial 6 finished with value: 0.5779675251959686 and parameters: {'svm__C': 31}. Best is trial 3 with value: 0.6041713325867861.\n",
      "[I 2024-08-15 13:04:59,084] Trial 7 finished with value: 0.5909574468085106 and parameters: {'svm__C': 4}. Best is trial 3 with value: 0.6041713325867861.\n",
      "[I 2024-08-15 13:04:59,134] Trial 8 finished with value: 0.5674972004479283 and parameters: {'svm__C': 21}. Best is trial 3 with value: 0.6041713325867861.\n",
      "[I 2024-08-15 13:04:59,179] Trial 9 finished with value: 0.6041713325867861 and parameters: {'svm__C': 1}. Best is trial 3 with value: 0.6041713325867861.\n",
      "/home/hsreekri/Hsreekri/lib/python3.11/site-packages/sklearn/base.py:125: ExperimentalWarning: OptunaSearchCV is experimental (supported from v0.17.0). The interface can change in the future.\n",
      "  new_object = klass(**new_object_params)\n",
      "\n",
      "[I 2024-08-15 13:04:59,206] A new study created in memory with name: no-name-0a24883f-079f-4c3c-b623-1cc119b8a70b\n",
      "[I 2024-08-15 13:04:59,255] Trial 0 finished with value: 0.5594064949608062 and parameters: {'svm__C': 17}. Best is trial 0 with value: 0.5594064949608062.\n",
      "[I 2024-08-15 13:04:59,306] Trial 1 finished with value: 0.5250559910414334 and parameters: {'svm__C': 27}. Best is trial 0 with value: 0.5594064949608062.\n",
      "[I 2024-08-15 13:04:59,351] Trial 2 finished with value: 0.609434490481523 and parameters: {'svm__C': 4}. Best is trial 2 with value: 0.609434490481523.\n",
      "[I 2024-08-15 13:04:59,396] Trial 3 finished with value: 0.6146976483762598 and parameters: {'svm__C': 3}. Best is trial 3 with value: 0.6146976483762598.\n",
      "[I 2024-08-15 13:04:59,442] Trial 4 finished with value: 0.5989921612541994 and parameters: {'svm__C': 6}. Best is trial 3 with value: 0.6146976483762598.\n",
      "[I 2024-08-15 13:04:59,494] Trial 5 finished with value: 0.5223684210526316 and parameters: {'svm__C': 30}. Best is trial 3 with value: 0.6146976483762598.\n",
      "[I 2024-08-15 13:04:59,547] Trial 6 finished with value: 0.5144736842105263 and parameters: {'svm__C': 36}. Best is trial 3 with value: 0.6146976483762598.\n",
      "[I 2024-08-15 13:04:59,600] Trial 7 finished with value: 0.5119540873460247 and parameters: {'svm__C': 91}. Best is trial 3 with value: 0.6146976483762598.\n",
      "[I 2024-08-15 13:04:59,644] Trial 8 finished with value: 0.6252239641657336 and parameters: {'svm__C': 2}. Best is trial 8 with value: 0.6252239641657336.\n",
      "[I 2024-08-15 13:04:59,688] Trial 9 finished with value: 0.6253359462486002 and parameters: {'svm__C': 1}. Best is trial 9 with value: 0.6253359462486002.\n",
      "/home/hsreekri/Hsreekri/lib/python3.11/site-packages/sklearn/base.py:125: ExperimentalWarning: OptunaSearchCV is experimental (supported from v0.17.0). The interface can change in the future.\n",
      "  new_object = klass(**new_object_params)\n",
      "\n",
      "[I 2024-08-15 13:04:59,715] A new study created in memory with name: no-name-5143f2bd-d1db-4942-bd98-b2f0ff6e1ee7\n",
      "[I 2024-08-15 13:04:59,761] Trial 0 finished with value: 0.6227603583426652 and parameters: {'svm__C': 8}. Best is trial 0 with value: 0.6227603583426652.\n",
      "[I 2024-08-15 13:04:59,805] Trial 1 finished with value: 0.6252799552071668 and parameters: {'svm__C': 2}. Best is trial 1 with value: 0.6252799552071668.\n",
      "[I 2024-08-15 13:04:59,849] Trial 2 finished with value: 0.6252799552071668 and parameters: {'svm__C': 2}. Best is trial 1 with value: 0.6252799552071668.\n",
      "[I 2024-08-15 13:04:59,893] Trial 3 finished with value: 0.6306550951847705 and parameters: {'svm__C': 4}. Best is trial 3 with value: 0.6306550951847705.\n",
      "[I 2024-08-15 13:04:59,938] Trial 4 finished with value: 0.6252799552071668 and parameters: {'svm__C': 2}. Best is trial 3 with value: 0.6306550951847705.\n",
      "[I 2024-08-15 13:04:59,982] Trial 5 finished with value: 0.6148096304591265 and parameters: {'svm__C': 6}. Best is trial 3 with value: 0.6306550951847705.\n",
      "[I 2024-08-15 13:05:00,029] Trial 6 finished with value: 0.6043673012318029 and parameters: {'svm__C': 10}. Best is trial 3 with value: 0.6306550951847705.\n",
      "[I 2024-08-15 13:05:00,117] Trial 7 finished with value: 0.6252799552071668 and parameters: {'svm__C': 2}. Best is trial 3 with value: 0.6306550951847705.\n",
      "[I 2024-08-15 13:05:00,167] Trial 8 finished with value: 0.6096584546472564 and parameters: {'svm__C': 15}. Best is trial 3 with value: 0.6306550951847705.\n",
      "[I 2024-08-15 13:05:00,218] Trial 9 finished with value: 0.604451287793953 and parameters: {'svm__C': 28}. Best is trial 3 with value: 0.6306550951847705.\n",
      "[I 2024-08-15 13:05:00,243] A new study created in memory with name: no-name-44a14e14-9d53-4c4c-8d02-1f82d0185598\n",
      "[I 2024-08-15 13:05:00,303] Trial 0 finished with value: 0.6317647794025747 and parameters: {'svm__C': 1}. Best is trial 0 with value: 0.6317647794025747.\n",
      "[I 2024-08-15 13:05:00,365] Trial 1 finished with value: 0.6020809898762656 and parameters: {'svm__C': 7}. Best is trial 0 with value: 0.6317647794025747.\n",
      "[I 2024-08-15 13:05:00,425] Trial 2 finished with value: 0.6317647794025747 and parameters: {'svm__C': 1}. Best is trial 0 with value: 0.6317647794025747.\n",
      "[I 2024-08-15 13:05:00,495] Trial 3 finished with value: 0.5723815773028371 and parameters: {'svm__C': 24}. Best is trial 0 with value: 0.6317647794025747.\n",
      "[I 2024-08-15 13:05:00,555] Trial 4 finished with value: 0.6277496562929634 and parameters: {'svm__C': 3}. Best is trial 0 with value: 0.6317647794025747.\n",
      "[I 2024-08-15 13:05:00,613] Trial 5 finished with value: 0.6317647794025747 and parameters: {'svm__C': 1}. Best is trial 0 with value: 0.6317647794025747.\n",
      "[I 2024-08-15 13:05:00,685] Trial 6 finished with value: 0.5644763154605674 and parameters: {'svm__C': 32}. Best is trial 0 with value: 0.6317647794025747.\n",
      "[I 2024-08-15 13:05:00,756] Trial 7 finished with value: 0.5664604424446944 and parameters: {'svm__C': 31}. Best is trial 0 with value: 0.6317647794025747.\n",
      "[I 2024-08-15 13:05:00,815] Trial 8 finished with value: 0.6218441444819398 and parameters: {'svm__C': 4}. Best is trial 0 with value: 0.6317647794025747.\n",
      "[I 2024-08-15 13:05:00,889] Trial 9 finished with value: 0.5684445694288214 and parameters: {'svm__C': 35}. Best is trial 0 with value: 0.6317647794025747.\n"
     ]
    }
   ],
   "source": [
    "search_params = {\n",
    "    \"kind\": \"optuna\",\n",
    "    \"cv\":4\n",
    "}\n",
    "\n",
    "scoring = [\"balanced_accuracy\"]\n",
    "scores_hists, model_hists, inspector_hists_ridge = run_cross_validation(\n",
    "    X=X_hists,\n",
    "    y='SEX_ID (1=m, 2=f)',\n",
    "    data=df_full_histograms,\n",
    "    search_params=search_params,\n",
    "    model=creator,\n",
    "    return_train_score=True,\n",
    "    return_inspector=True,\n",
    "    cv=4,\n",
    "    scoring = scoring,\n",
    ")"
   ]
  },
  {
   "cell_type": "code",
   "execution_count": 8,
   "metadata": {},
   "outputs": [
    {
     "data": {
      "text/html": [
       "<div>\n",
       "<style scoped>\n",
       "    .dataframe tbody tr th:only-of-type {\n",
       "        vertical-align: middle;\n",
       "    }\n",
       "\n",
       "    .dataframe tbody tr th {\n",
       "        vertical-align: top;\n",
       "    }\n",
       "\n",
       "    .dataframe thead th {\n",
       "        text-align: right;\n",
       "    }\n",
       "</style>\n",
       "<table border=\"1\" class=\"dataframe\">\n",
       "  <thead>\n",
       "    <tr style=\"text-align: right;\">\n",
       "      <th></th>\n",
       "      <th>fit_time</th>\n",
       "      <th>score_time</th>\n",
       "      <th>estimator</th>\n",
       "      <th>test_balanced_accuracy</th>\n",
       "      <th>train_balanced_accuracy</th>\n",
       "      <th>n_train</th>\n",
       "      <th>n_test</th>\n",
       "      <th>repeat</th>\n",
       "      <th>fold</th>\n",
       "      <th>cv_mdsum</th>\n",
       "    </tr>\n",
       "  </thead>\n",
       "  <tbody>\n",
       "    <tr>\n",
       "      <th>0</th>\n",
       "      <td>0.492666</td>\n",
       "      <td>0.004918</td>\n",
       "      <td>OptunaSearchCV(cv=KFold(n_splits=4, random_sta...</td>\n",
       "      <td>0.619527</td>\n",
       "      <td>0.820654</td>\n",
       "      <td>378</td>\n",
       "      <td>127</td>\n",
       "      <td>0</td>\n",
       "      <td>0</td>\n",
       "      <td>bc7087515161a73a5a6aff57863f3803</td>\n",
       "    </tr>\n",
       "    <tr>\n",
       "      <th>1</th>\n",
       "      <td>0.484841</td>\n",
       "      <td>0.004884</td>\n",
       "      <td>OptunaSearchCV(cv=KFold(n_splits=4, random_sta...</td>\n",
       "      <td>0.687228</td>\n",
       "      <td>0.756322</td>\n",
       "      <td>379</td>\n",
       "      <td>126</td>\n",
       "      <td>0</td>\n",
       "      <td>1</td>\n",
       "      <td>bc7087515161a73a5a6aff57863f3803</td>\n",
       "    </tr>\n",
       "    <tr>\n",
       "      <th>2</th>\n",
       "      <td>0.493805</td>\n",
       "      <td>0.004825</td>\n",
       "      <td>OptunaSearchCV(cv=KFold(n_splits=4, random_sta...</td>\n",
       "      <td>0.614902</td>\n",
       "      <td>0.753438</td>\n",
       "      <td>379</td>\n",
       "      <td>126</td>\n",
       "      <td>0</td>\n",
       "      <td>2</td>\n",
       "      <td>bc7087515161a73a5a6aff57863f3803</td>\n",
       "    </tr>\n",
       "    <tr>\n",
       "      <th>3</th>\n",
       "      <td>0.514098</td>\n",
       "      <td>0.004676</td>\n",
       "      <td>OptunaSearchCV(cv=KFold(n_splits=4, random_sta...</td>\n",
       "      <td>0.548214</td>\n",
       "      <td>0.881920</td>\n",
       "      <td>379</td>\n",
       "      <td>126</td>\n",
       "      <td>0</td>\n",
       "      <td>3</td>\n",
       "      <td>bc7087515161a73a5a6aff57863f3803</td>\n",
       "    </tr>\n",
       "  </tbody>\n",
       "</table>\n",
       "</div>"
      ],
      "text/plain": [
       "   fit_time  score_time                                          estimator  \\\n",
       "0  0.492666    0.004918  OptunaSearchCV(cv=KFold(n_splits=4, random_sta...   \n",
       "1  0.484841    0.004884  OptunaSearchCV(cv=KFold(n_splits=4, random_sta...   \n",
       "2  0.493805    0.004825  OptunaSearchCV(cv=KFold(n_splits=4, random_sta...   \n",
       "3  0.514098    0.004676  OptunaSearchCV(cv=KFold(n_splits=4, random_sta...   \n",
       "\n",
       "   test_balanced_accuracy  train_balanced_accuracy  n_train  n_test  repeat  \\\n",
       "0                0.619527                 0.820654      378     127       0   \n",
       "1                0.687228                 0.756322      379     126       0   \n",
       "2                0.614902                 0.753438      379     126       0   \n",
       "3                0.548214                 0.881920      379     126       0   \n",
       "\n",
       "   fold                          cv_mdsum  \n",
       "0     0  bc7087515161a73a5a6aff57863f3803  \n",
       "1     1  bc7087515161a73a5a6aff57863f3803  \n",
       "2     2  bc7087515161a73a5a6aff57863f3803  \n",
       "3     3  bc7087515161a73a5a6aff57863f3803  "
      ]
     },
     "execution_count": 8,
     "metadata": {},
     "output_type": "execute_result"
    }
   ],
   "source": [
    "scores_hists"
   ]
  },
  {
   "cell_type": "code",
   "execution_count": 10,
   "metadata": {},
   "outputs": [
    {
     "data": {
      "application/javascript": "(function(root) {\n  function now() {\n    return new Date();\n  }\n\n  var force = true;\n  var py_version = '3.4.3'.replace('rc', '-rc.').replace('.dev', '-dev.');\n  var reloading = false;\n  var Bokeh = root.Bokeh;\n\n  if (typeof (root._bokeh_timeout) === \"undefined\" || force) {\n    root._bokeh_timeout = Date.now() + 5000;\n    root._bokeh_failed_load = false;\n  }\n\n  function run_callbacks() {\n    try {\n      root._bokeh_onload_callbacks.forEach(function(callback) {\n        if (callback != null)\n          callback();\n      });\n    } finally {\n      delete root._bokeh_onload_callbacks;\n    }\n    console.debug(\"Bokeh: all callbacks have finished\");\n  }\n\n  function load_libs(css_urls, js_urls, js_modules, js_exports, callback) {\n    if (css_urls == null) css_urls = [];\n    if (js_urls == null) js_urls = [];\n    if (js_modules == null) js_modules = [];\n    if (js_exports == null) js_exports = {};\n\n    root._bokeh_onload_callbacks.push(callback);\n\n    if (root._bokeh_is_loading > 0) {\n      console.debug(\"Bokeh: BokehJS is being loaded, scheduling callback at\", now());\n      return null;\n    }\n    if (js_urls.length === 0 && js_modules.length === 0 && Object.keys(js_exports).length === 0) {\n      run_callbacks();\n      return null;\n    }\n    if (!reloading) {\n      console.debug(\"Bokeh: BokehJS not loaded, scheduling load and callback at\", now());\n    }\n\n    function on_load() {\n      root._bokeh_is_loading--;\n      if (root._bokeh_is_loading === 0) {\n        console.debug(\"Bokeh: all BokehJS libraries/stylesheets loaded\");\n        run_callbacks()\n      }\n    }\n    window._bokeh_on_load = on_load\n\n    function on_error() {\n      console.error(\"failed to load \" + url);\n    }\n\n    var skip = [];\n    if (window.requirejs) {\n      window.requirejs.config({'packages': {}, 'paths': {}, 'shim': {}});\n      root._bokeh_is_loading = css_urls.length + 0;\n    } else {\n      root._bokeh_is_loading = css_urls.length + js_urls.length + js_modules.length + Object.keys(js_exports).length;\n    }\n\n    var existing_stylesheets = []\n    var links = document.getElementsByTagName('link')\n    for (var i = 0; i < links.length; i++) {\n      var link = links[i]\n      if (link.href != null) {\n\texisting_stylesheets.push(link.href)\n      }\n    }\n    for (var i = 0; i < css_urls.length; i++) {\n      var url = css_urls[i];\n      if (existing_stylesheets.indexOf(url) !== -1) {\n\ton_load()\n\tcontinue;\n      }\n      const element = document.createElement(\"link\");\n      element.onload = on_load;\n      element.onerror = on_error;\n      element.rel = \"stylesheet\";\n      element.type = \"text/css\";\n      element.href = url;\n      console.debug(\"Bokeh: injecting link tag for BokehJS stylesheet: \", url);\n      document.body.appendChild(element);\n    }    var existing_scripts = []\n    var scripts = document.getElementsByTagName('script')\n    for (var i = 0; i < scripts.length; i++) {\n      var script = scripts[i]\n      if (script.src != null) {\n\texisting_scripts.push(script.src)\n      }\n    }\n    for (var i = 0; i < js_urls.length; i++) {\n      var url = js_urls[i];\n      if (skip.indexOf(url) !== -1 || existing_scripts.indexOf(url) !== -1) {\n\tif (!window.requirejs) {\n\t  on_load();\n\t}\n\tcontinue;\n      }\n      var element = document.createElement('script');\n      element.onload = on_load;\n      element.onerror = on_error;\n      element.async = false;\n      element.src = url;\n      console.debug(\"Bokeh: injecting script tag for BokehJS library: \", url);\n      document.head.appendChild(element);\n    }\n    for (var i = 0; i < js_modules.length; i++) {\n      var url = js_modules[i];\n      if (skip.indexOf(url) !== -1 || existing_scripts.indexOf(url) !== -1) {\n\tif (!window.requirejs) {\n\t  on_load();\n\t}\n\tcontinue;\n      }\n      var element = document.createElement('script');\n      element.onload = on_load;\n      element.onerror = on_error;\n      element.async = false;\n      element.src = url;\n      element.type = \"module\";\n      console.debug(\"Bokeh: injecting script tag for BokehJS library: \", url);\n      document.head.appendChild(element);\n    }\n    for (const name in js_exports) {\n      var url = js_exports[name];\n      if (skip.indexOf(url) >= 0 || root[name] != null) {\n\tif (!window.requirejs) {\n\t  on_load();\n\t}\n\tcontinue;\n      }\n      var element = document.createElement('script');\n      element.onerror = on_error;\n      element.async = false;\n      element.type = \"module\";\n      console.debug(\"Bokeh: injecting script tag for BokehJS library: \", url);\n      element.textContent = `\n      import ${name} from \"${url}\"\n      window.${name} = ${name}\n      window._bokeh_on_load()\n      `\n      document.head.appendChild(element);\n    }\n    if (!js_urls.length && !js_modules.length) {\n      on_load()\n    }\n  };\n\n  function inject_raw_css(css) {\n    const element = document.createElement(\"style\");\n    element.appendChild(document.createTextNode(css));\n    document.body.appendChild(element);\n  }\n\n  var js_urls = [\"https://cdn.bokeh.org/bokeh/release/bokeh-3.4.3.min.js\", \"https://cdn.bokeh.org/bokeh/release/bokeh-gl-3.4.3.min.js\", \"https://cdn.bokeh.org/bokeh/release/bokeh-widgets-3.4.3.min.js\", \"https://cdn.bokeh.org/bokeh/release/bokeh-tables-3.4.3.min.js\", \"https://cdn.holoviz.org/panel/1.4.4/dist/panel.min.js\"];\n  var js_modules = [];\n  var js_exports = {};\n  var css_urls = [];\n  var inline_js = [    function(Bokeh) {\n      Bokeh.set_log_level(\"info\");\n    },\nfunction(Bokeh) {} // ensure no trailing comma for IE\n  ];\n\n  function run_inline_js() {\n    if ((root.Bokeh !== undefined) || (force === true)) {\n      for (var i = 0; i < inline_js.length; i++) {\n\ttry {\n          inline_js[i].call(root, root.Bokeh);\n\t} catch(e) {\n\t  if (!reloading) {\n\t    throw e;\n\t  }\n\t}\n      }\n      // Cache old bokeh versions\n      if (Bokeh != undefined && !reloading) {\n\tvar NewBokeh = root.Bokeh;\n\tif (Bokeh.versions === undefined) {\n\t  Bokeh.versions = new Map();\n\t}\n\tif (NewBokeh.version !== Bokeh.version) {\n\t  Bokeh.versions.set(NewBokeh.version, NewBokeh)\n\t}\n\troot.Bokeh = Bokeh;\n      }} else if (Date.now() < root._bokeh_timeout) {\n      setTimeout(run_inline_js, 100);\n    } else if (!root._bokeh_failed_load) {\n      console.log(\"Bokeh: BokehJS failed to load within specified timeout.\");\n      root._bokeh_failed_load = true;\n    }\n    root._bokeh_is_initializing = false\n  }\n\n  function load_or_wait() {\n    // Implement a backoff loop that tries to ensure we do not load multiple\n    // versions of Bokeh and its dependencies at the same time.\n    // In recent versions we use the root._bokeh_is_initializing flag\n    // to determine whether there is an ongoing attempt to initialize\n    // bokeh, however for backward compatibility we also try to ensure\n    // that we do not start loading a newer (Panel>=1.0 and Bokeh>3) version\n    // before older versions are fully initialized.\n    if (root._bokeh_is_initializing && Date.now() > root._bokeh_timeout) {\n      root._bokeh_is_initializing = false;\n      root._bokeh_onload_callbacks = undefined;\n      console.log(\"Bokeh: BokehJS was loaded multiple times but one version failed to initialize.\");\n      load_or_wait();\n    } else if (root._bokeh_is_initializing || (typeof root._bokeh_is_initializing === \"undefined\" && root._bokeh_onload_callbacks !== undefined)) {\n      setTimeout(load_or_wait, 100);\n    } else {\n      root._bokeh_is_initializing = true\n      root._bokeh_onload_callbacks = []\n      var bokeh_loaded = Bokeh != null && (Bokeh.version === py_version || (Bokeh.versions !== undefined && Bokeh.versions.has(py_version)));\n      if (!reloading && !bokeh_loaded) {\n\troot.Bokeh = undefined;\n      }\n      load_libs(css_urls, js_urls, js_modules, js_exports, function() {\n\tconsole.debug(\"Bokeh: BokehJS plotting callback run at\", now());\n\trun_inline_js();\n      });\n    }\n  }\n  // Give older versions of the autoload script a head-start to ensure\n  // they initialize before we start loading newer version.\n  setTimeout(load_or_wait, 100)\n}(window));",
      "application/vnd.holoviews_load.v0+json": ""
     },
     "metadata": {},
     "output_type": "display_data"
    },
    {
     "data": {
      "application/javascript": "\nif ((window.PyViz === undefined) || (window.PyViz instanceof HTMLElement)) {\n  window.PyViz = {comms: {}, comm_status:{}, kernels:{}, receivers: {}, plot_index: []}\n}\n\n\n    function JupyterCommManager() {\n    }\n\n    JupyterCommManager.prototype.register_target = function(plot_id, comm_id, msg_handler) {\n      if (window.comm_manager || ((window.Jupyter !== undefined) && (Jupyter.notebook.kernel != null))) {\n        var comm_manager = window.comm_manager || Jupyter.notebook.kernel.comm_manager;\n        comm_manager.register_target(comm_id, function(comm) {\n          comm.on_msg(msg_handler);\n        });\n      } else if ((plot_id in window.PyViz.kernels) && (window.PyViz.kernels[plot_id])) {\n        window.PyViz.kernels[plot_id].registerCommTarget(comm_id, function(comm) {\n          comm.onMsg = msg_handler;\n        });\n      } else if (typeof google != 'undefined' && google.colab.kernel != null) {\n        google.colab.kernel.comms.registerTarget(comm_id, (comm) => {\n          var messages = comm.messages[Symbol.asyncIterator]();\n          function processIteratorResult(result) {\n            var message = result.value;\n            console.log(message)\n            var content = {data: message.data, comm_id};\n            var buffers = []\n            for (var buffer of message.buffers || []) {\n              buffers.push(new DataView(buffer))\n            }\n            var metadata = message.metadata || {};\n            var msg = {content, buffers, metadata}\n            msg_handler(msg);\n            return messages.next().then(processIteratorResult);\n          }\n          return messages.next().then(processIteratorResult);\n        })\n      }\n    }\n\n    JupyterCommManager.prototype.get_client_comm = function(plot_id, comm_id, msg_handler) {\n      if (comm_id in window.PyViz.comms) {\n        return window.PyViz.comms[comm_id];\n      } else if (window.comm_manager || ((window.Jupyter !== undefined) && (Jupyter.notebook.kernel != null))) {\n        var comm_manager = window.comm_manager || Jupyter.notebook.kernel.comm_manager;\n        var comm = comm_manager.new_comm(comm_id, {}, {}, {}, comm_id);\n        if (msg_handler) {\n          comm.on_msg(msg_handler);\n        }\n      } else if ((plot_id in window.PyViz.kernels) && (window.PyViz.kernels[plot_id])) {\n        var comm = window.PyViz.kernels[plot_id].connectToComm(comm_id);\n        comm.open();\n        if (msg_handler) {\n          comm.onMsg = msg_handler;\n        }\n      } else if (typeof google != 'undefined' && google.colab.kernel != null) {\n        var comm_promise = google.colab.kernel.comms.open(comm_id)\n        comm_promise.then((comm) => {\n          window.PyViz.comms[comm_id] = comm;\n          if (msg_handler) {\n            var messages = comm.messages[Symbol.asyncIterator]();\n            function processIteratorResult(result) {\n              var message = result.value;\n              var content = {data: message.data};\n              var metadata = message.metadata || {comm_id};\n              var msg = {content, metadata}\n              msg_handler(msg);\n              return messages.next().then(processIteratorResult);\n            }\n            return messages.next().then(processIteratorResult);\n          }\n        }) \n        var sendClosure = (data, metadata, buffers, disposeOnDone) => {\n          return comm_promise.then((comm) => {\n            comm.send(data, metadata, buffers, disposeOnDone);\n          });\n        };\n        var comm = {\n          send: sendClosure\n        };\n      }\n      window.PyViz.comms[comm_id] = comm;\n      return comm;\n    }\n    window.PyViz.comm_manager = new JupyterCommManager();\n    \n\n\nvar JS_MIME_TYPE = 'application/javascript';\nvar HTML_MIME_TYPE = 'text/html';\nvar EXEC_MIME_TYPE = 'application/vnd.holoviews_exec.v0+json';\nvar CLASS_NAME = 'output';\n\n/**\n * Render data to the DOM node\n */\nfunction render(props, node) {\n  var div = document.createElement(\"div\");\n  var script = document.createElement(\"script\");\n  node.appendChild(div);\n  node.appendChild(script);\n}\n\n/**\n * Handle when a new output is added\n */\nfunction handle_add_output(event, handle) {\n  var output_area = handle.output_area;\n  var output = handle.output;\n  if ((output.data == undefined) || (!output.data.hasOwnProperty(EXEC_MIME_TYPE))) {\n    return\n  }\n  var id = output.metadata[EXEC_MIME_TYPE][\"id\"];\n  var toinsert = output_area.element.find(\".\" + CLASS_NAME.split(' ')[0]);\n  if (id !== undefined) {\n    var nchildren = toinsert.length;\n    var html_node = toinsert[nchildren-1].children[0];\n    html_node.innerHTML = output.data[HTML_MIME_TYPE];\n    var scripts = [];\n    var nodelist = html_node.querySelectorAll(\"script\");\n    for (var i in nodelist) {\n      if (nodelist.hasOwnProperty(i)) {\n        scripts.push(nodelist[i])\n      }\n    }\n\n    scripts.forEach( function (oldScript) {\n      var newScript = document.createElement(\"script\");\n      var attrs = [];\n      var nodemap = oldScript.attributes;\n      for (var j in nodemap) {\n        if (nodemap.hasOwnProperty(j)) {\n          attrs.push(nodemap[j])\n        }\n      }\n      attrs.forEach(function(attr) { newScript.setAttribute(attr.name, attr.value) });\n      newScript.appendChild(document.createTextNode(oldScript.innerHTML));\n      oldScript.parentNode.replaceChild(newScript, oldScript);\n    });\n    if (JS_MIME_TYPE in output.data) {\n      toinsert[nchildren-1].children[1].textContent = output.data[JS_MIME_TYPE];\n    }\n    output_area._hv_plot_id = id;\n    if ((window.Bokeh !== undefined) && (id in Bokeh.index)) {\n      window.PyViz.plot_index[id] = Bokeh.index[id];\n    } else {\n      window.PyViz.plot_index[id] = null;\n    }\n  } else if (output.metadata[EXEC_MIME_TYPE][\"server_id\"] !== undefined) {\n    var bk_div = document.createElement(\"div\");\n    bk_div.innerHTML = output.data[HTML_MIME_TYPE];\n    var script_attrs = bk_div.children[0].attributes;\n    for (var i = 0; i < script_attrs.length; i++) {\n      toinsert[toinsert.length - 1].childNodes[1].setAttribute(script_attrs[i].name, script_attrs[i].value);\n    }\n    // store reference to server id on output_area\n    output_area._bokeh_server_id = output.metadata[EXEC_MIME_TYPE][\"server_id\"];\n  }\n}\n\n/**\n * Handle when an output is cleared or removed\n */\nfunction handle_clear_output(event, handle) {\n  var id = handle.cell.output_area._hv_plot_id;\n  var server_id = handle.cell.output_area._bokeh_server_id;\n  if (((id === undefined) || !(id in PyViz.plot_index)) && (server_id !== undefined)) { return; }\n  var comm = window.PyViz.comm_manager.get_client_comm(\"hv-extension-comm\", \"hv-extension-comm\", function () {});\n  if (server_id !== null) {\n    comm.send({event_type: 'server_delete', 'id': server_id});\n    return;\n  } else if (comm !== null) {\n    comm.send({event_type: 'delete', 'id': id});\n  }\n  delete PyViz.plot_index[id];\n  if ((window.Bokeh !== undefined) & (id in window.Bokeh.index)) {\n    var doc = window.Bokeh.index[id].model.document\n    doc.clear();\n    const i = window.Bokeh.documents.indexOf(doc);\n    if (i > -1) {\n      window.Bokeh.documents.splice(i, 1);\n    }\n  }\n}\n\n/**\n * Handle kernel restart event\n */\nfunction handle_kernel_cleanup(event, handle) {\n  delete PyViz.comms[\"hv-extension-comm\"];\n  window.PyViz.plot_index = {}\n}\n\n/**\n * Handle update_display_data messages\n */\nfunction handle_update_output(event, handle) {\n  handle_clear_output(event, {cell: {output_area: handle.output_area}})\n  handle_add_output(event, handle)\n}\n\nfunction register_renderer(events, OutputArea) {\n  function append_mime(data, metadata, element) {\n    // create a DOM node to render to\n    var toinsert = this.create_output_subarea(\n    metadata,\n    CLASS_NAME,\n    EXEC_MIME_TYPE\n    );\n    this.keyboard_manager.register_events(toinsert);\n    // Render to node\n    var props = {data: data, metadata: metadata[EXEC_MIME_TYPE]};\n    render(props, toinsert[0]);\n    element.append(toinsert);\n    return toinsert\n  }\n\n  events.on('output_added.OutputArea', handle_add_output);\n  events.on('output_updated.OutputArea', handle_update_output);\n  events.on('clear_output.CodeCell', handle_clear_output);\n  events.on('delete.Cell', handle_clear_output);\n  events.on('kernel_ready.Kernel', handle_kernel_cleanup);\n\n  OutputArea.prototype.register_mime_type(EXEC_MIME_TYPE, append_mime, {\n    safe: true,\n    index: 0\n  });\n}\n\nif (window.Jupyter !== undefined) {\n  try {\n    var events = require('base/js/events');\n    var OutputArea = require('notebook/js/outputarea').OutputArea;\n    if (OutputArea.prototype.mime_types().indexOf(EXEC_MIME_TYPE) == -1) {\n      register_renderer(events, OutputArea);\n    }\n  } catch(err) {\n  }\n}\n",
      "application/vnd.holoviews_load.v0+json": ""
     },
     "metadata": {},
     "output_type": "display_data"
    },
    {
     "data": {
      "text/html": [
       "<style>*[data-root-id],\n",
       "*[data-root-id] > * {\n",
       "  box-sizing: border-box;\n",
       "  font-family: var(--jp-ui-font-family);\n",
       "  font-size: var(--jp-ui-font-size1);\n",
       "  color: var(--vscode-editor-foreground, var(--jp-ui-font-color1));\n",
       "}\n",
       "\n",
       "/* Override VSCode background color */\n",
       ".cell-output-ipywidget-background:has(\n",
       "    > .cell-output-ipywidget-background > .lm-Widget > *[data-root-id]\n",
       "  ),\n",
       ".cell-output-ipywidget-background:has(> .lm-Widget > *[data-root-id]) {\n",
       "  background-color: transparent !important;\n",
       "}\n",
       "</style>"
      ]
     },
     "metadata": {},
     "output_type": "display_data"
    },
    {
     "data": {
      "application/vnd.holoviews_exec.v0+json": "",
      "text/html": [
       "<div id='f00bec74-712a-4b92-a106-169c6706b484'>\n",
       "  <div id=\"df1bb06d-7a51-4310-907f-7544e80fc484\" data-root-id=\"f00bec74-712a-4b92-a106-169c6706b484\" style=\"display: contents;\"></div>\n",
       "</div>\n",
       "<script type=\"application/javascript\">(function(root) {\n",
       "  var docs_json = {\"26f00054-75a0-4969-a194-034ca6fb6544\":{\"version\":\"3.4.3\",\"title\":\"Bokeh Application\",\"roots\":[{\"type\":\"object\",\"name\":\"panel.models.browser.BrowserInfo\",\"id\":\"f00bec74-712a-4b92-a106-169c6706b484\"},{\"type\":\"object\",\"name\":\"panel.models.comm_manager.CommManager\",\"id\":\"face0f25-7136-4001-bf5e-e4f19d1996fe\",\"attributes\":{\"plot_id\":\"f00bec74-712a-4b92-a106-169c6706b484\",\"comm_id\":\"f5e8f935766e41b881c97f20ac47ad68\",\"client_comm_id\":\"707ff0ea63544a7e9adfeac434acca72\"}}],\"defs\":[{\"type\":\"model\",\"name\":\"ReactiveHTML1\"},{\"type\":\"model\",\"name\":\"FlexBox1\",\"properties\":[{\"name\":\"align_content\",\"kind\":\"Any\",\"default\":\"flex-start\"},{\"name\":\"align_items\",\"kind\":\"Any\",\"default\":\"flex-start\"},{\"name\":\"flex_direction\",\"kind\":\"Any\",\"default\":\"row\"},{\"name\":\"flex_wrap\",\"kind\":\"Any\",\"default\":\"wrap\"},{\"name\":\"gap\",\"kind\":\"Any\",\"default\":\"\"},{\"name\":\"justify_content\",\"kind\":\"Any\",\"default\":\"flex-start\"}]},{\"type\":\"model\",\"name\":\"FloatPanel1\",\"properties\":[{\"name\":\"config\",\"kind\":\"Any\",\"default\":{\"type\":\"map\"}},{\"name\":\"contained\",\"kind\":\"Any\",\"default\":true},{\"name\":\"position\",\"kind\":\"Any\",\"default\":\"right-top\"},{\"name\":\"offsetx\",\"kind\":\"Any\",\"default\":null},{\"name\":\"offsety\",\"kind\":\"Any\",\"default\":null},{\"name\":\"theme\",\"kind\":\"Any\",\"default\":\"primary\"},{\"name\":\"status\",\"kind\":\"Any\",\"default\":\"normalized\"}]},{\"type\":\"model\",\"name\":\"GridStack1\",\"properties\":[{\"name\":\"mode\",\"kind\":\"Any\",\"default\":\"warn\"},{\"name\":\"ncols\",\"kind\":\"Any\",\"default\":null},{\"name\":\"nrows\",\"kind\":\"Any\",\"default\":null},{\"name\":\"allow_resize\",\"kind\":\"Any\",\"default\":true},{\"name\":\"allow_drag\",\"kind\":\"Any\",\"default\":true},{\"name\":\"state\",\"kind\":\"Any\",\"default\":[]}]},{\"type\":\"model\",\"name\":\"drag1\",\"properties\":[{\"name\":\"slider_width\",\"kind\":\"Any\",\"default\":5},{\"name\":\"slider_color\",\"kind\":\"Any\",\"default\":\"black\"},{\"name\":\"value\",\"kind\":\"Any\",\"default\":50}]},{\"type\":\"model\",\"name\":\"click1\",\"properties\":[{\"name\":\"terminal_output\",\"kind\":\"Any\",\"default\":\"\"},{\"name\":\"debug_name\",\"kind\":\"Any\",\"default\":\"\"},{\"name\":\"clears\",\"kind\":\"Any\",\"default\":0}]},{\"type\":\"model\",\"name\":\"FastWrapper1\",\"properties\":[{\"name\":\"object\",\"kind\":\"Any\",\"default\":null},{\"name\":\"style\",\"kind\":\"Any\",\"default\":null}]},{\"type\":\"model\",\"name\":\"NotificationAreaBase1\",\"properties\":[{\"name\":\"js_events\",\"kind\":\"Any\",\"default\":{\"type\":\"map\"}},{\"name\":\"position\",\"kind\":\"Any\",\"default\":\"bottom-right\"},{\"name\":\"_clear\",\"kind\":\"Any\",\"default\":0}]},{\"type\":\"model\",\"name\":\"NotificationArea1\",\"properties\":[{\"name\":\"js_events\",\"kind\":\"Any\",\"default\":{\"type\":\"map\"}},{\"name\":\"notifications\",\"kind\":\"Any\",\"default\":[]},{\"name\":\"position\",\"kind\":\"Any\",\"default\":\"bottom-right\"},{\"name\":\"_clear\",\"kind\":\"Any\",\"default\":0},{\"name\":\"types\",\"kind\":\"Any\",\"default\":[{\"type\":\"map\",\"entries\":[[\"type\",\"warning\"],[\"background\",\"#ffc107\"],[\"icon\",{\"type\":\"map\",\"entries\":[[\"className\",\"fas fa-exclamation-triangle\"],[\"tagName\",\"i\"],[\"color\",\"white\"]]}]]},{\"type\":\"map\",\"entries\":[[\"type\",\"info\"],[\"background\",\"#007bff\"],[\"icon\",{\"type\":\"map\",\"entries\":[[\"className\",\"fas fa-info-circle\"],[\"tagName\",\"i\"],[\"color\",\"white\"]]}]]}]}]},{\"type\":\"model\",\"name\":\"Notification\",\"properties\":[{\"name\":\"background\",\"kind\":\"Any\",\"default\":null},{\"name\":\"duration\",\"kind\":\"Any\",\"default\":3000},{\"name\":\"icon\",\"kind\":\"Any\",\"default\":null},{\"name\":\"message\",\"kind\":\"Any\",\"default\":\"\"},{\"name\":\"notification_type\",\"kind\":\"Any\",\"default\":null},{\"name\":\"_destroyed\",\"kind\":\"Any\",\"default\":false}]},{\"type\":\"model\",\"name\":\"TemplateActions1\",\"properties\":[{\"name\":\"open_modal\",\"kind\":\"Any\",\"default\":0},{\"name\":\"close_modal\",\"kind\":\"Any\",\"default\":0}]},{\"type\":\"model\",\"name\":\"BootstrapTemplateActions1\",\"properties\":[{\"name\":\"open_modal\",\"kind\":\"Any\",\"default\":0},{\"name\":\"close_modal\",\"kind\":\"Any\",\"default\":0}]},{\"type\":\"model\",\"name\":\"TemplateEditor1\",\"properties\":[{\"name\":\"layout\",\"kind\":\"Any\",\"default\":[]}]},{\"type\":\"model\",\"name\":\"MaterialTemplateActions1\",\"properties\":[{\"name\":\"open_modal\",\"kind\":\"Any\",\"default\":0},{\"name\":\"close_modal\",\"kind\":\"Any\",\"default\":0}]},{\"type\":\"model\",\"name\":\"copy_to_clipboard1\",\"properties\":[{\"name\":\"fill\",\"kind\":\"Any\",\"default\":\"none\"},{\"name\":\"value\",\"kind\":\"Any\",\"default\":null}]}]}};\n",
       "  var render_items = [{\"docid\":\"26f00054-75a0-4969-a194-034ca6fb6544\",\"roots\":{\"f00bec74-712a-4b92-a106-169c6706b484\":\"df1bb06d-7a51-4310-907f-7544e80fc484\"},\"root_ids\":[\"f00bec74-712a-4b92-a106-169c6706b484\"]}];\n",
       "  var docs = Object.values(docs_json)\n",
       "  if (!docs) {\n",
       "    return\n",
       "  }\n",
       "  const py_version = docs[0].version.replace('rc', '-rc.').replace('.dev', '-dev.')\n",
       "  async function embed_document(root) {\n",
       "    var Bokeh = get_bokeh(root)\n",
       "    await Bokeh.embed.embed_items_notebook(docs_json, render_items);\n",
       "    for (const render_item of render_items) {\n",
       "      for (const root_id of render_item.root_ids) {\n",
       "\tconst id_el = document.getElementById(root_id)\n",
       "\tif (id_el.children.length && id_el.children[0].hasAttribute('data-root-id')) {\n",
       "\t  const root_el = id_el.children[0]\n",
       "\t  root_el.id = root_el.id + '-rendered'\n",
       "\t  for (const child of root_el.children) {\n",
       "            // Ensure JupyterLab does not capture keyboard shortcuts\n",
       "            // see: https://jupyterlab.readthedocs.io/en/4.1.x/extension/notebook.html#keyboard-interaction-model\n",
       "\t    child.setAttribute('data-lm-suppress-shortcuts', 'true')\n",
       "\t  }\n",
       "\t}\n",
       "      }\n",
       "    }\n",
       "  }\n",
       "  function get_bokeh(root) {\n",
       "    if (root.Bokeh === undefined) {\n",
       "      return null\n",
       "    } else if (root.Bokeh.version !== py_version) {\n",
       "      if (root.Bokeh.versions === undefined || !root.Bokeh.versions.has(py_version)) {\n",
       "\treturn null\n",
       "      }\n",
       "      return root.Bokeh.versions.get(py_version);\n",
       "    } else if (root.Bokeh.version === py_version) {\n",
       "      return root.Bokeh\n",
       "    }\n",
       "    return null\n",
       "  }\n",
       "  function is_loaded(root) {\n",
       "    var Bokeh = get_bokeh(root)\n",
       "    return (Bokeh != null && Bokeh.Panel !== undefined)\n",
       "  }\n",
       "  if (is_loaded(root)) {\n",
       "    embed_document(root);\n",
       "  } else {\n",
       "    var attempts = 0;\n",
       "    var timer = setInterval(function(root) {\n",
       "      if (is_loaded(root)) {\n",
       "        clearInterval(timer);\n",
       "        embed_document(root);\n",
       "      } else if (document.readyState == \"complete\") {\n",
       "        attempts++;\n",
       "        if (attempts > 200) {\n",
       "          clearInterval(timer);\n",
       "\t  var Bokeh = get_bokeh(root)\n",
       "\t  if (Bokeh == null || Bokeh.Panel == null) {\n",
       "            console.warn(\"Panel: ERROR: Unable to run Panel code because Bokeh or Panel library is missing\");\n",
       "\t  } else {\n",
       "\t    console.warn(\"Panel: WARNING: Attempting to render but not all required libraries could be resolved.\")\n",
       "\t    embed_document(root)\n",
       "\t  }\n",
       "        }\n",
       "      }\n",
       "    }, 25, root)\n",
       "  }\n",
       "})(window);</script>"
      ]
     },
     "metadata": {
      "application/vnd.holoviews_exec.v0+json": {
       "id": "f00bec74-712a-4b92-a106-169c6706b484"
      }
     },
     "output_type": "display_data"
    },
    {
     "data": {
      "application/vnd.jupyter.widget-view+json": {
       "model_id": "2b560c6849034e45884f0b4e3f877d7e",
       "version_major": 2,
       "version_minor": 0
      },
      "text/plain": [
       "BokehModel(combine_events=True, render_bundle={'docs_json': {'a2679213-2949-445a-8403-52533fc2346a': {'version…"
      ]
     },
     "execution_count": 10,
     "metadata": {},
     "output_type": "execute_result"
    }
   ],
   "source": [
    "plot_scores(scores_hists)"
   ]
  }
 ],
 "metadata": {
  "kernelspec": {
   "display_name": "Hsreekri",
   "language": "python",
   "name": "python3"
  },
  "language_info": {
   "codemirror_mode": {
    "name": "ipython",
    "version": 3
   },
   "file_extension": ".py",
   "mimetype": "text/x-python",
   "name": "python",
   "nbconvert_exporter": "python",
   "pygments_lexer": "ipython3",
   "version": "3.11.2"
  }
 },
 "nbformat": 4,
 "nbformat_minor": 2
}
